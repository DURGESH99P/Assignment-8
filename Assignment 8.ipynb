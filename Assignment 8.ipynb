{
 "cells": [
  {
   "cell_type": "markdown",
   "id": "c43513aa",
   "metadata": {},
   "source": [
    "# Assignment 8"
   ]
  },
  {
   "cell_type": "markdown",
   "id": "460f899d",
   "metadata": {},
   "source": [
    "### 1. Is the Python Standard Library included with PyInputPlus?\n",
    "* No the PyInuputPlus module is not included with the Python Standard Library."
   ]
  },
  {
   "cell_type": "markdown",
   "id": "aa9901e3",
   "metadata": {},
   "source": [
    "### 2. Why is PyInputPlus commonly imported with import pyinputplus as pypi?\n",
    "* pypi is shorter name when calling the module's functions,the module PyInputPlus is assigned name as pypi."
   ]
  },
  {
   "cell_type": "markdown",
   "id": "602b5e4b",
   "metadata": {},
   "source": [
    "### 3. How do you distinguish between inputInt() and inputFloat()?\n",
    "* inputint() accepts an integer value as input and returns int.\n",
    "* inputFloat() accepts a floating-point numeric value as input and returns float."
   ]
  },
  {
   "cell_type": "markdown",
   "id": "cc2af635",
   "metadata": {},
   "source": [
    "### 4. Using PyInputPlus, how do you ensure that the user enters a whole number between 0 and 99?\n",
    "* pypi.inputInt() function takes input as integer (whole number) only."
   ]
  },
  {
   "cell_type": "markdown",
   "id": "c3b2af16",
   "metadata": {},
   "source": [
    "### 5. What is transferred to the keyword arguments allowRegexes and blockRegexes?\n",
    "* List of regular expression strings are transferred to keyword arguments allowRegexes and blockRegexes to determine what the PyInputPlus function will accept or reject as valid input. "
   ]
  },
  {
   "cell_type": "markdown",
   "id": "828fcf4d",
   "metadata": {},
   "source": [
    "### 6. If a blank input is entered three times, what does inputStr(limit=3) do?\n",
    "* When a blank input is entered three times it raises a RetryLimitException exception."
   ]
  },
  {
   "cell_type": "markdown",
   "id": "c1e6f24a",
   "metadata": {},
   "source": [
    "### 7. If blank input is entered three times, what does inputStr(limit=3, default='hello') do?\n",
    "* the function returns the default value 'hello' instead of raising an exception."
   ]
  }
 ],
 "metadata": {
  "kernelspec": {
   "display_name": "Python 3 (ipykernel)",
   "language": "python",
   "name": "python3"
  },
  "language_info": {
   "codemirror_mode": {
    "name": "ipython",
    "version": 3
   },
   "file_extension": ".py",
   "mimetype": "text/x-python",
   "name": "python",
   "nbconvert_exporter": "python",
   "pygments_lexer": "ipython3",
   "version": "3.8.10"
  }
 },
 "nbformat": 4,
 "nbformat_minor": 5
}
